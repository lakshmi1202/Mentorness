{
 "cells": [
  {
   "cell_type": "code",
   "execution_count": 1,
   "id": "5d9939e5-a1ff-4da6-8a13-f65b78e84de0",
   "metadata": {},
   "outputs": [],
   "source": [
    "import pandas as pd\n",
    "from sklearn.preprocessing import LabelEncoder, StandardScaler\n",
    "from sklearn.impute import SimpleImputer\n",
    "from sklearn.ensemble import RandomForestClassifier\n",
    "from sklearn.metrics import accuracy_score"
   ]
  },
  {
   "cell_type": "code",
   "execution_count": 2,
   "id": "58aae0f4-a1de-4ca9-8eba-41a964e82250",
   "metadata": {},
   "outputs": [],
   "source": [
    "# Load your training and testing datasets\n",
    "train_data = pd.read_csv(r\"C:\\Users\\sunda\\disease mentorness\\Train_data.csv\")\n",
    "test_data = pd.read_csv(r\"C:\\Users\\sunda\\disease mentorness\\test_data.csv\")"
   ]
  },
  {
   "cell_type": "code",
   "execution_count": 3,
   "id": "00ef1f73-a4c1-4791-b8f4-15e9f2d04e0f",
   "metadata": {},
   "outputs": [],
   "source": [
    "# Combine training and testing datasets\n",
    "combined_data = pd.concat([train_data, test_data], axis=0)"
   ]
  },
  {
   "cell_type": "code",
   "execution_count": 4,
   "id": "d3f60a68-f8cd-4402-8116-1ba158bede19",
   "metadata": {},
   "outputs": [
    {
     "data": {
      "text/html": [
       "<div>\n",
       "<style scoped>\n",
       "    .dataframe tbody tr th:only-of-type {\n",
       "        vertical-align: middle;\n",
       "    }\n",
       "\n",
       "    .dataframe tbody tr th {\n",
       "        vertical-align: top;\n",
       "    }\n",
       "\n",
       "    .dataframe thead th {\n",
       "        text-align: right;\n",
       "    }\n",
       "</style>\n",
       "<table border=\"1\" class=\"dataframe\">\n",
       "  <thead>\n",
       "    <tr style=\"text-align: right;\">\n",
       "      <th></th>\n",
       "      <th>Glucose</th>\n",
       "      <th>Cholesterol</th>\n",
       "      <th>Hemoglobin</th>\n",
       "      <th>Platelets</th>\n",
       "      <th>White Blood Cells</th>\n",
       "      <th>Red Blood Cells</th>\n",
       "      <th>Hematocrit</th>\n",
       "      <th>Mean Corpuscular Volume</th>\n",
       "      <th>Mean Corpuscular Hemoglobin</th>\n",
       "      <th>Mean Corpuscular Hemoglobin Concentration</th>\n",
       "      <th>...</th>\n",
       "      <th>HbA1c</th>\n",
       "      <th>LDL Cholesterol</th>\n",
       "      <th>HDL Cholesterol</th>\n",
       "      <th>ALT</th>\n",
       "      <th>AST</th>\n",
       "      <th>Heart Rate</th>\n",
       "      <th>Creatinine</th>\n",
       "      <th>Troponin</th>\n",
       "      <th>C-reactive Protein</th>\n",
       "      <th>Disease</th>\n",
       "    </tr>\n",
       "  </thead>\n",
       "  <tbody>\n",
       "    <tr>\n",
       "      <th>0</th>\n",
       "      <td>0.739597</td>\n",
       "      <td>0.650198</td>\n",
       "      <td>0.713631</td>\n",
       "      <td>0.868491</td>\n",
       "      <td>0.687433</td>\n",
       "      <td>0.529895</td>\n",
       "      <td>0.290006</td>\n",
       "      <td>0.631045</td>\n",
       "      <td>0.001328</td>\n",
       "      <td>0.795829</td>\n",
       "      <td>...</td>\n",
       "      <td>0.502665</td>\n",
       "      <td>0.215560</td>\n",
       "      <td>0.512941</td>\n",
       "      <td>0.064187</td>\n",
       "      <td>0.610827</td>\n",
       "      <td>0.939485</td>\n",
       "      <td>0.095512</td>\n",
       "      <td>0.465957</td>\n",
       "      <td>0.769230</td>\n",
       "      <td>Healthy</td>\n",
       "    </tr>\n",
       "    <tr>\n",
       "      <th>1</th>\n",
       "      <td>0.121786</td>\n",
       "      <td>0.023058</td>\n",
       "      <td>0.944893</td>\n",
       "      <td>0.905372</td>\n",
       "      <td>0.507711</td>\n",
       "      <td>0.403033</td>\n",
       "      <td>0.164216</td>\n",
       "      <td>0.307553</td>\n",
       "      <td>0.207938</td>\n",
       "      <td>0.505562</td>\n",
       "      <td>...</td>\n",
       "      <td>0.856810</td>\n",
       "      <td>0.652465</td>\n",
       "      <td>0.106961</td>\n",
       "      <td>0.942549</td>\n",
       "      <td>0.344261</td>\n",
       "      <td>0.666368</td>\n",
       "      <td>0.659060</td>\n",
       "      <td>0.816982</td>\n",
       "      <td>0.401166</td>\n",
       "      <td>Diabetes</td>\n",
       "    </tr>\n",
       "    <tr>\n",
       "      <th>2</th>\n",
       "      <td>0.452539</td>\n",
       "      <td>0.116135</td>\n",
       "      <td>0.544560</td>\n",
       "      <td>0.400640</td>\n",
       "      <td>0.294538</td>\n",
       "      <td>0.382021</td>\n",
       "      <td>0.625267</td>\n",
       "      <td>0.295122</td>\n",
       "      <td>0.868369</td>\n",
       "      <td>0.026808</td>\n",
       "      <td>...</td>\n",
       "      <td>0.466795</td>\n",
       "      <td>0.387332</td>\n",
       "      <td>0.421763</td>\n",
       "      <td>0.007186</td>\n",
       "      <td>0.506918</td>\n",
       "      <td>0.431704</td>\n",
       "      <td>0.417295</td>\n",
       "      <td>0.799074</td>\n",
       "      <td>0.779208</td>\n",
       "      <td>Thalasse</td>\n",
       "    </tr>\n",
       "    <tr>\n",
       "      <th>3</th>\n",
       "      <td>0.136609</td>\n",
       "      <td>0.015605</td>\n",
       "      <td>0.419957</td>\n",
       "      <td>0.191487</td>\n",
       "      <td>0.081168</td>\n",
       "      <td>0.166214</td>\n",
       "      <td>0.073293</td>\n",
       "      <td>0.668719</td>\n",
       "      <td>0.125447</td>\n",
       "      <td>0.501051</td>\n",
       "      <td>...</td>\n",
       "      <td>0.016256</td>\n",
       "      <td>0.040137</td>\n",
       "      <td>0.826721</td>\n",
       "      <td>0.265415</td>\n",
       "      <td>0.594148</td>\n",
       "      <td>0.225756</td>\n",
       "      <td>0.490349</td>\n",
       "      <td>0.637061</td>\n",
       "      <td>0.354094</td>\n",
       "      <td>Anemia</td>\n",
       "    </tr>\n",
       "    <tr>\n",
       "      <th>4</th>\n",
       "      <td>0.176737</td>\n",
       "      <td>0.752220</td>\n",
       "      <td>0.971779</td>\n",
       "      <td>0.785286</td>\n",
       "      <td>0.443880</td>\n",
       "      <td>0.439851</td>\n",
       "      <td>0.894991</td>\n",
       "      <td>0.442159</td>\n",
       "      <td>0.257288</td>\n",
       "      <td>0.805987</td>\n",
       "      <td>...</td>\n",
       "      <td>0.429431</td>\n",
       "      <td>0.146294</td>\n",
       "      <td>0.221574</td>\n",
       "      <td>0.015280</td>\n",
       "      <td>0.567115</td>\n",
       "      <td>0.841412</td>\n",
       "      <td>0.153350</td>\n",
       "      <td>0.794008</td>\n",
       "      <td>0.094970</td>\n",
       "      <td>Thalasse</td>\n",
       "    </tr>\n",
       "  </tbody>\n",
       "</table>\n",
       "<p>5 rows × 25 columns</p>\n",
       "</div>"
      ],
      "text/plain": [
       "    Glucose  Cholesterol  Hemoglobin  Platelets  White Blood Cells  \\\n",
       "0  0.739597     0.650198    0.713631   0.868491           0.687433   \n",
       "1  0.121786     0.023058    0.944893   0.905372           0.507711   \n",
       "2  0.452539     0.116135    0.544560   0.400640           0.294538   \n",
       "3  0.136609     0.015605    0.419957   0.191487           0.081168   \n",
       "4  0.176737     0.752220    0.971779   0.785286           0.443880   \n",
       "\n",
       "   Red Blood Cells  Hematocrit  Mean Corpuscular Volume  \\\n",
       "0         0.529895    0.290006                 0.631045   \n",
       "1         0.403033    0.164216                 0.307553   \n",
       "2         0.382021    0.625267                 0.295122   \n",
       "3         0.166214    0.073293                 0.668719   \n",
       "4         0.439851    0.894991                 0.442159   \n",
       "\n",
       "   Mean Corpuscular Hemoglobin  Mean Corpuscular Hemoglobin Concentration  \\\n",
       "0                     0.001328                                   0.795829   \n",
       "1                     0.207938                                   0.505562   \n",
       "2                     0.868369                                   0.026808   \n",
       "3                     0.125447                                   0.501051   \n",
       "4                     0.257288                                   0.805987   \n",
       "\n",
       "   ...     HbA1c  LDL Cholesterol  HDL Cholesterol       ALT       AST  \\\n",
       "0  ...  0.502665         0.215560         0.512941  0.064187  0.610827   \n",
       "1  ...  0.856810         0.652465         0.106961  0.942549  0.344261   \n",
       "2  ...  0.466795         0.387332         0.421763  0.007186  0.506918   \n",
       "3  ...  0.016256         0.040137         0.826721  0.265415  0.594148   \n",
       "4  ...  0.429431         0.146294         0.221574  0.015280  0.567115   \n",
       "\n",
       "   Heart Rate  Creatinine  Troponin  C-reactive Protein   Disease  \n",
       "0    0.939485    0.095512  0.465957            0.769230   Healthy  \n",
       "1    0.666368    0.659060  0.816982            0.401166  Diabetes  \n",
       "2    0.431704    0.417295  0.799074            0.779208  Thalasse  \n",
       "3    0.225756    0.490349  0.637061            0.354094    Anemia  \n",
       "4    0.841412    0.153350  0.794008            0.094970  Thalasse  \n",
       "\n",
       "[5 rows x 25 columns]"
      ]
     },
     "execution_count": 4,
     "metadata": {},
     "output_type": "execute_result"
    }
   ],
   "source": [
    "combined_data.head()"
   ]
  },
  {
   "cell_type": "code",
   "execution_count": 9,
   "id": "8ecad7f8-cccc-4546-bab8-d798d6a996c2",
   "metadata": {},
   "outputs": [
    {
     "data": {
      "text/plain": [
       "<bound method NDFrame.describe of       Glucose  Cholesterol  Hemoglobin  Platelets  White Blood Cells  \\\n",
       "0    0.739597     0.650198    0.713631   0.868491           0.687433   \n",
       "1    0.121786     0.023058    0.944893   0.905372           0.507711   \n",
       "2    0.452539     0.116135    0.544560   0.400640           0.294538   \n",
       "3    0.136609     0.015605    0.419957   0.191487           0.081168   \n",
       "4    0.176737     0.752220    0.971779   0.785286           0.443880   \n",
       "..        ...          ...         ...        ...                ...   \n",
       "481  0.985163     0.412960    0.529993   0.263765           0.431288   \n",
       "482  0.581914     0.629325    0.491644   0.901473           0.347797   \n",
       "483  0.066669     0.404558    0.591041   0.228401           0.127461   \n",
       "484  0.901444     0.430680    0.243853   0.825551           0.493884   \n",
       "485  0.877912     0.597809    0.730440   0.462307           0.498438   \n",
       "\n",
       "     Red Blood Cells  Hematocrit  Mean Corpuscular Volume  \\\n",
       "0           0.529895    0.290006                 0.631045   \n",
       "1           0.403033    0.164216                 0.307553   \n",
       "2           0.382021    0.625267                 0.295122   \n",
       "3           0.166214    0.073293                 0.668719   \n",
       "4           0.439851    0.894991                 0.442159   \n",
       "..               ...         ...                      ...   \n",
       "481         0.198882    0.581289                 0.701192   \n",
       "482         0.633286    0.698114                 0.516947   \n",
       "483         0.026670    0.847444                 0.279740   \n",
       "484         0.726299    0.660930                 0.445560   \n",
       "485         0.792822    0.976056                 0.883937   \n",
       "\n",
       "     Mean Corpuscular Hemoglobin  Mean Corpuscular Hemoglobin Concentration  \\\n",
       "0                       0.001328                                   0.795829   \n",
       "1                       0.207938                                   0.505562   \n",
       "2                       0.868369                                   0.026808   \n",
       "3                       0.125447                                   0.501051   \n",
       "4                       0.257288                                   0.805987   \n",
       "..                           ...                                        ...   \n",
       "481                     0.249410                                   0.246893   \n",
       "482                     0.674259                                   0.798153   \n",
       "483                     0.575425                                   0.156438   \n",
       "484                     0.349782                                   0.343069   \n",
       "485                     0.202147                                   0.930649   \n",
       "\n",
       "     ...     HbA1c  LDL Cholesterol  HDL Cholesterol       ALT       AST  \\\n",
       "0    ...  0.502665         0.215560         0.512941  0.064187  0.610827   \n",
       "1    ...  0.856810         0.652465         0.106961  0.942549  0.344261   \n",
       "2    ...  0.466795         0.387332         0.421763  0.007186  0.506918   \n",
       "3    ...  0.016256         0.040137         0.826721  0.265415  0.594148   \n",
       "4    ...  0.429431         0.146294         0.221574  0.015280  0.567115   \n",
       "..   ...       ...              ...              ...       ...       ...   \n",
       "481  ...  0.680556         0.048191         0.465272  0.066511  0.965544   \n",
       "482  ...  0.261767         0.482322         0.799523  0.807460  0.325313   \n",
       "483  ...  0.168146         0.763625         0.677782  0.890501  0.638825   \n",
       "484  ...  0.893448         0.500059         0.112250  0.548469  0.211496   \n",
       "485  ...  0.242163         0.783372         0.568568  0.784730  0.500928   \n",
       "\n",
       "     Heart Rate  Creatinine  Troponin  C-reactive Protein   Disease  \n",
       "0      0.939485    0.095512  0.465957            0.769230   Healthy  \n",
       "1      0.666368    0.659060  0.816982            0.401166  Diabetes  \n",
       "2      0.431704    0.417295  0.799074            0.779208  Thalasse  \n",
       "3      0.225756    0.490349  0.637061            0.354094    Anemia  \n",
       "4      0.841412    0.153350  0.794008            0.094970  Thalasse  \n",
       "..          ...         ...       ...                 ...       ...  \n",
       "481    0.015051    0.442730  0.196986            0.816038  Diabetes  \n",
       "482    0.825194    0.777866  0.415987            0.842804  Heart Di  \n",
       "483    0.559993    0.795478  0.669925            0.124874    Anemia  \n",
       "484    0.938355    0.463381  0.862921            0.658526  Diabetes  \n",
       "485    0.016738    0.104687  0.055181            0.049341  Diabetes  \n",
       "\n",
       "[2837 rows x 25 columns]>"
      ]
     },
     "execution_count": 9,
     "metadata": {},
     "output_type": "execute_result"
    }
   ],
   "source": [
    "combined_data.describe"
   ]
  },
  {
   "cell_type": "code",
   "execution_count": 10,
   "id": "90efdce7-bf26-40ad-9a3a-c9bcb4c49857",
   "metadata": {},
   "outputs": [
    {
     "data": {
      "text/plain": [
       "<bound method DataFrame.info of       Glucose  Cholesterol  Hemoglobin  Platelets  White Blood Cells  \\\n",
       "0    0.739597     0.650198    0.713631   0.868491           0.687433   \n",
       "1    0.121786     0.023058    0.944893   0.905372           0.507711   \n",
       "2    0.452539     0.116135    0.544560   0.400640           0.294538   \n",
       "3    0.136609     0.015605    0.419957   0.191487           0.081168   \n",
       "4    0.176737     0.752220    0.971779   0.785286           0.443880   \n",
       "..        ...          ...         ...        ...                ...   \n",
       "481  0.985163     0.412960    0.529993   0.263765           0.431288   \n",
       "482  0.581914     0.629325    0.491644   0.901473           0.347797   \n",
       "483  0.066669     0.404558    0.591041   0.228401           0.127461   \n",
       "484  0.901444     0.430680    0.243853   0.825551           0.493884   \n",
       "485  0.877912     0.597809    0.730440   0.462307           0.498438   \n",
       "\n",
       "     Red Blood Cells  Hematocrit  Mean Corpuscular Volume  \\\n",
       "0           0.529895    0.290006                 0.631045   \n",
       "1           0.403033    0.164216                 0.307553   \n",
       "2           0.382021    0.625267                 0.295122   \n",
       "3           0.166214    0.073293                 0.668719   \n",
       "4           0.439851    0.894991                 0.442159   \n",
       "..               ...         ...                      ...   \n",
       "481         0.198882    0.581289                 0.701192   \n",
       "482         0.633286    0.698114                 0.516947   \n",
       "483         0.026670    0.847444                 0.279740   \n",
       "484         0.726299    0.660930                 0.445560   \n",
       "485         0.792822    0.976056                 0.883937   \n",
       "\n",
       "     Mean Corpuscular Hemoglobin  Mean Corpuscular Hemoglobin Concentration  \\\n",
       "0                       0.001328                                   0.795829   \n",
       "1                       0.207938                                   0.505562   \n",
       "2                       0.868369                                   0.026808   \n",
       "3                       0.125447                                   0.501051   \n",
       "4                       0.257288                                   0.805987   \n",
       "..                           ...                                        ...   \n",
       "481                     0.249410                                   0.246893   \n",
       "482                     0.674259                                   0.798153   \n",
       "483                     0.575425                                   0.156438   \n",
       "484                     0.349782                                   0.343069   \n",
       "485                     0.202147                                   0.930649   \n",
       "\n",
       "     ...     HbA1c  LDL Cholesterol  HDL Cholesterol       ALT       AST  \\\n",
       "0    ...  0.502665         0.215560         0.512941  0.064187  0.610827   \n",
       "1    ...  0.856810         0.652465         0.106961  0.942549  0.344261   \n",
       "2    ...  0.466795         0.387332         0.421763  0.007186  0.506918   \n",
       "3    ...  0.016256         0.040137         0.826721  0.265415  0.594148   \n",
       "4    ...  0.429431         0.146294         0.221574  0.015280  0.567115   \n",
       "..   ...       ...              ...              ...       ...       ...   \n",
       "481  ...  0.680556         0.048191         0.465272  0.066511  0.965544   \n",
       "482  ...  0.261767         0.482322         0.799523  0.807460  0.325313   \n",
       "483  ...  0.168146         0.763625         0.677782  0.890501  0.638825   \n",
       "484  ...  0.893448         0.500059         0.112250  0.548469  0.211496   \n",
       "485  ...  0.242163         0.783372         0.568568  0.784730  0.500928   \n",
       "\n",
       "     Heart Rate  Creatinine  Troponin  C-reactive Protein   Disease  \n",
       "0      0.939485    0.095512  0.465957            0.769230   Healthy  \n",
       "1      0.666368    0.659060  0.816982            0.401166  Diabetes  \n",
       "2      0.431704    0.417295  0.799074            0.779208  Thalasse  \n",
       "3      0.225756    0.490349  0.637061            0.354094    Anemia  \n",
       "4      0.841412    0.153350  0.794008            0.094970  Thalasse  \n",
       "..          ...         ...       ...                 ...       ...  \n",
       "481    0.015051    0.442730  0.196986            0.816038  Diabetes  \n",
       "482    0.825194    0.777866  0.415987            0.842804  Heart Di  \n",
       "483    0.559993    0.795478  0.669925            0.124874    Anemia  \n",
       "484    0.938355    0.463381  0.862921            0.658526  Diabetes  \n",
       "485    0.016738    0.104687  0.055181            0.049341  Diabetes  \n",
       "\n",
       "[2837 rows x 25 columns]>"
      ]
     },
     "execution_count": 10,
     "metadata": {},
     "output_type": "execute_result"
    }
   ],
   "source": [
    "combined_data.info"
   ]
  },
  {
   "cell_type": "code",
   "execution_count": 11,
   "id": "f46c1267-e140-4071-8244-470bea7c3958",
   "metadata": {},
   "outputs": [
    {
     "data": {
      "text/plain": [
       "(2837, 25)"
      ]
     },
     "execution_count": 11,
     "metadata": {},
     "output_type": "execute_result"
    }
   ],
   "source": [
    "combined_data.shape"
   ]
  },
  {
   "cell_type": "code",
   "execution_count": 9,
   "id": "099f1ff6-4bdb-4e39-a2b4-1c617caf1bb6",
   "metadata": {},
   "outputs": [],
   "source": [
    "from sklearn.impute import SimpleImputer\n",
    "from sklearn.preprocessing import StandardScaler, OneHotEncoder\n",
    "from sklearn.compose import ColumnTransformer\n",
    "from sklearn.pipeline import Pipeline\n",
    "import numpy as np"
   ]
  },
  {
   "cell_type": "code",
   "execution_count": 10,
   "id": "5d7bf7b5-2929-4079-b43a-40cab97eda2e",
   "metadata": {},
   "outputs": [
    {
     "ename": "NameError",
     "evalue": "name 'combined_data' is not defined",
     "output_type": "error",
     "traceback": [
      "\u001b[1;31m---------------------------------------------------------------------------\u001b[0m",
      "\u001b[1;31mNameError\u001b[0m                                 Traceback (most recent call last)",
      "Cell \u001b[1;32mIn[10], line 2\u001b[0m\n\u001b[0;32m      1\u001b[0m \u001b[38;5;66;03m# Separate features and target variable\u001b[39;00m\n\u001b[1;32m----> 2\u001b[0m X_combined \u001b[38;5;241m=\u001b[39m \u001b[43mcombined_data\u001b[49m\u001b[38;5;241m.\u001b[39mdrop(\u001b[38;5;124m'\u001b[39m\u001b[38;5;124mDisease\u001b[39m\u001b[38;5;124m'\u001b[39m, axis\u001b[38;5;241m=\u001b[39m\u001b[38;5;241m1\u001b[39m)\n\u001b[0;32m      3\u001b[0m y_combined \u001b[38;5;241m=\u001b[39m combined_data[\u001b[38;5;124m'\u001b[39m\u001b[38;5;124mDisease\u001b[39m\u001b[38;5;124m'\u001b[39m]\n",
      "\u001b[1;31mNameError\u001b[0m: name 'combined_data' is not defined"
     ]
    }
   ],
   "source": [
    "# Separate features and target variable\n",
    "X_combined = combined_data.drop('Disease', axis=1)\n",
    "y_combined = combined_data['Disease']\n"
   ]
  },
  {
   "cell_type": "code",
   "execution_count": null,
   "id": "df7b0c87-064d-4093-bf81-9b6771c5df21",
   "metadata": {},
   "outputs": [],
   "source": [
    "# Identify numerical and categorical features\n",
    "numerical_features = X_combined.select_dtypes(include=[np.number]).columns.tolist()\n",
    "categorical_features = X_combined.select_dtypes(exclude=[np.number]).columns.tolist()\n"
   ]
  },
  {
   "cell_type": "code",
   "execution_count": 11,
   "id": "e2f80fbe-9db4-4fe2-a9da-292cb3053373",
   "metadata": {},
   "outputs": [],
   "source": [
    "# Define preprocessing steps for numerical and categorical features\n",
    "numerical_transformer = Pipeline(steps=[\n",
    "    ('imputer', SimpleImputer(strategy='median')),\n",
    "    ('scaler', StandardScaler())\n",
    "])"
   ]
  },
  {
   "cell_type": "code",
   "execution_count": 12,
   "id": "00b90d6f-d7ec-4f41-9396-4610a4265dd7",
   "metadata": {},
   "outputs": [],
   "source": [
    "categorical_transformer = Pipeline(steps=[\n",
    "    ('imputer', SimpleImputer(strategy='most_frequent')),\n",
    "    ('onehot', OneHotEncoder(handle_unknown='ignore'))\n",
    "])\n"
   ]
  },
  {
   "cell_type": "code",
   "execution_count": 13,
   "id": "e468bc8f-c216-49d6-87ef-ec84e5502304",
   "metadata": {},
   "outputs": [
    {
     "ename": "NameError",
     "evalue": "name 'numerical_features' is not defined",
     "output_type": "error",
     "traceback": [
      "\u001b[1;31m---------------------------------------------------------------------------\u001b[0m",
      "\u001b[1;31mNameError\u001b[0m                                 Traceback (most recent call last)",
      "Cell \u001b[1;32mIn[13], line 4\u001b[0m\n\u001b[0;32m      1\u001b[0m \u001b[38;5;66;03m# Combine preprocessing steps for numerical and categorical features\u001b[39;00m\n\u001b[0;32m      2\u001b[0m preprocessor \u001b[38;5;241m=\u001b[39m ColumnTransformer(\n\u001b[0;32m      3\u001b[0m     transformers\u001b[38;5;241m=\u001b[39m[\n\u001b[1;32m----> 4\u001b[0m         (\u001b[38;5;124m'\u001b[39m\u001b[38;5;124mnum\u001b[39m\u001b[38;5;124m'\u001b[39m, numerical_transformer, \u001b[43mnumerical_features\u001b[49m),\n\u001b[0;32m      5\u001b[0m         (\u001b[38;5;124m'\u001b[39m\u001b[38;5;124mcat\u001b[39m\u001b[38;5;124m'\u001b[39m, categorical_transformer, categorical_features)\n\u001b[0;32m      6\u001b[0m     ])\n",
      "\u001b[1;31mNameError\u001b[0m: name 'numerical_features' is not defined"
     ]
    }
   ],
   "source": [
    "# Combine preprocessing steps for numerical and categorical features\n",
    "preprocessor = ColumnTransformer(\n",
    "    transformers=[\n",
    "        ('num', numerical_transformer, numerical_features),\n",
    "        ('cat', categorical_transformer, categorical_features)\n",
    "    ])"
   ]
  },
  {
   "cell_type": "code",
   "execution_count": 18,
   "id": "000c8ee6-a59b-43fc-807f-5483ad18e51c",
   "metadata": {},
   "outputs": [],
   "source": [
    "# Preprocess the combined dataset\n",
    "X_preprocessed = preprocessor.fit_transform(X_combined)\n"
   ]
  },
  {
   "cell_type": "code",
   "execution_count": 22,
   "id": "29465d81-6394-4f63-8566-a8aef417ac62",
   "metadata": {},
   "outputs": [
    {
     "data": {
      "text/plain": [
       "array([[ 1.35469484,  0.94496806,  0.51886542, ..., -1.42279668,\n",
       "         0.00714342,  1.27535729],\n",
       "       [-1.00305554, -1.55380842,  1.34818277, ...,  0.90089575,\n",
       "         1.35844594, -0.17341009],\n",
       "       [ 0.25919642, -1.1829544 , -0.08743154, ..., -0.09598008,\n",
       "         1.28950759,  1.31463188],\n",
       "       ...,\n",
       "       [-1.21339923, -0.03376   ,  0.07925318, ...,  1.46339032,\n",
       "         0.79233493, -1.26094611],\n",
       "       [ 1.97235136,  0.07032089, -1.16577976, ...,  0.09404838,\n",
       "         1.53529088,  0.8396062 ],\n",
       "       [ 1.88254638,  0.73622898,  0.57914298, ..., -1.3849635 ,\n",
       "        -1.57417557, -1.5582582 ]])"
      ]
     },
     "execution_count": 22,
     "metadata": {},
     "output_type": "execute_result"
    }
   ],
   "source": [
    "X_preprocessed"
   ]
  },
  {
   "cell_type": "code",
   "execution_count": 28,
   "id": "c73c27ca-6a14-44e2-9463-9db1221b6a23",
   "metadata": {},
   "outputs": [],
   "source": [
    "from sklearn.ensemble import RandomForestClassifier\n",
    "from sklearn.metrics import accuracy_score, precision_score, recall_score, f1_score\n",
    "from sklearn.model_selection import train_test_split"
   ]
  },
  {
   "cell_type": "code",
   "execution_count": 29,
   "id": "cb3f1b66-345b-4206-94a0-165a0ccf550b",
   "metadata": {},
   "outputs": [],
   "source": [
    "# Split the preprocessed data into training and testing sets\n",
    "X_train, X_test, y_train, y_test = train_test_split(X_preprocessed, y_combined, test_size=0.2, random_state=42)"
   ]
  },
  {
   "cell_type": "code",
   "execution_count": 30,
   "id": "7efce04a-e594-4d7e-94be-5bbc5519ef5e",
   "metadata": {},
   "outputs": [
    {
     "data": {
      "text/html": [
       "<style>#sk-container-id-2 {color: black;background-color: white;}#sk-container-id-2 pre{padding: 0;}#sk-container-id-2 div.sk-toggleable {background-color: white;}#sk-container-id-2 label.sk-toggleable__label {cursor: pointer;display: block;width: 100%;margin-bottom: 0;padding: 0.3em;box-sizing: border-box;text-align: center;}#sk-container-id-2 label.sk-toggleable__label-arrow:before {content: \"▸\";float: left;margin-right: 0.25em;color: #696969;}#sk-container-id-2 label.sk-toggleable__label-arrow:hover:before {color: black;}#sk-container-id-2 div.sk-estimator:hover label.sk-toggleable__label-arrow:before {color: black;}#sk-container-id-2 div.sk-toggleable__content {max-height: 0;max-width: 0;overflow: hidden;text-align: left;background-color: #f0f8ff;}#sk-container-id-2 div.sk-toggleable__content pre {margin: 0.2em;color: black;border-radius: 0.25em;background-color: #f0f8ff;}#sk-container-id-2 input.sk-toggleable__control:checked~div.sk-toggleable__content {max-height: 200px;max-width: 100%;overflow: auto;}#sk-container-id-2 input.sk-toggleable__control:checked~label.sk-toggleable__label-arrow:before {content: \"▾\";}#sk-container-id-2 div.sk-estimator input.sk-toggleable__control:checked~label.sk-toggleable__label {background-color: #d4ebff;}#sk-container-id-2 div.sk-label input.sk-toggleable__control:checked~label.sk-toggleable__label {background-color: #d4ebff;}#sk-container-id-2 input.sk-hidden--visually {border: 0;clip: rect(1px 1px 1px 1px);clip: rect(1px, 1px, 1px, 1px);height: 1px;margin: -1px;overflow: hidden;padding: 0;position: absolute;width: 1px;}#sk-container-id-2 div.sk-estimator {font-family: monospace;background-color: #f0f8ff;border: 1px dotted black;border-radius: 0.25em;box-sizing: border-box;margin-bottom: 0.5em;}#sk-container-id-2 div.sk-estimator:hover {background-color: #d4ebff;}#sk-container-id-2 div.sk-parallel-item::after {content: \"\";width: 100%;border-bottom: 1px solid gray;flex-grow: 1;}#sk-container-id-2 div.sk-label:hover label.sk-toggleable__label {background-color: #d4ebff;}#sk-container-id-2 div.sk-serial::before {content: \"\";position: absolute;border-left: 1px solid gray;box-sizing: border-box;top: 0;bottom: 0;left: 50%;z-index: 0;}#sk-container-id-2 div.sk-serial {display: flex;flex-direction: column;align-items: center;background-color: white;padding-right: 0.2em;padding-left: 0.2em;position: relative;}#sk-container-id-2 div.sk-item {position: relative;z-index: 1;}#sk-container-id-2 div.sk-parallel {display: flex;align-items: stretch;justify-content: center;background-color: white;position: relative;}#sk-container-id-2 div.sk-item::before, #sk-container-id-2 div.sk-parallel-item::before {content: \"\";position: absolute;border-left: 1px solid gray;box-sizing: border-box;top: 0;bottom: 0;left: 50%;z-index: -1;}#sk-container-id-2 div.sk-parallel-item {display: flex;flex-direction: column;z-index: 1;position: relative;background-color: white;}#sk-container-id-2 div.sk-parallel-item:first-child::after {align-self: flex-end;width: 50%;}#sk-container-id-2 div.sk-parallel-item:last-child::after {align-self: flex-start;width: 50%;}#sk-container-id-2 div.sk-parallel-item:only-child::after {width: 0;}#sk-container-id-2 div.sk-dashed-wrapped {border: 1px dashed gray;margin: 0 0.4em 0.5em 0.4em;box-sizing: border-box;padding-bottom: 0.4em;background-color: white;}#sk-container-id-2 div.sk-label label {font-family: monospace;font-weight: bold;display: inline-block;line-height: 1.2em;}#sk-container-id-2 div.sk-label-container {text-align: center;}#sk-container-id-2 div.sk-container {/* jupyter's `normalize.less` sets `[hidden] { display: none; }` but bootstrap.min.css set `[hidden] { display: none !important; }` so we also need the `!important` here to be able to override the default hidden behavior on the sphinx rendered scikit-learn.org. See: https://github.com/scikit-learn/scikit-learn/issues/21755 */display: inline-block !important;position: relative;}#sk-container-id-2 div.sk-text-repr-fallback {display: none;}</style><div id=\"sk-container-id-2\" class=\"sk-top-container\"><div class=\"sk-text-repr-fallback\"><pre>RandomForestClassifier(random_state=42)</pre><b>In a Jupyter environment, please rerun this cell to show the HTML representation or trust the notebook. <br />On GitHub, the HTML representation is unable to render, please try loading this page with nbviewer.org.</b></div><div class=\"sk-container\" hidden><div class=\"sk-item\"><div class=\"sk-estimator sk-toggleable\"><input class=\"sk-toggleable__control sk-hidden--visually\" id=\"sk-estimator-id-2\" type=\"checkbox\" checked><label for=\"sk-estimator-id-2\" class=\"sk-toggleable__label sk-toggleable__label-arrow\">RandomForestClassifier</label><div class=\"sk-toggleable__content\"><pre>RandomForestClassifier(random_state=42)</pre></div></div></div></div></div>"
      ],
      "text/plain": [
       "RandomForestClassifier(random_state=42)"
      ]
     },
     "execution_count": 30,
     "metadata": {},
     "output_type": "execute_result"
    }
   ],
   "source": [
    "# Train a RandomForestClassifier model\n",
    "rf_model = RandomForestClassifier(random_state=42)\n",
    "rf_model.fit(X_train, y_train)"
   ]
  },
  {
   "cell_type": "code",
   "execution_count": 31,
   "id": "4b0902e6-ec02-4e7e-bda1-08a32183302a",
   "metadata": {},
   "outputs": [],
   "source": [
    "# Make predictions on the testing set\n",
    "y_pred = rf_model.predict(X_test)"
   ]
  },
  {
   "cell_type": "code",
   "execution_count": 32,
   "id": "5320e1e5-52c4-4697-b327-2cfa62837549",
   "metadata": {},
   "outputs": [],
   "source": [
    "# Calculate evaluation metrics\n",
    "accuracy = accuracy_score(y_test, y_pred)\n",
    "precision = precision_score(y_test, y_pred, average='macro')\n",
    "recall = recall_score(y_test, y_pred, average='macro')\n",
    "f1 = f1_score(y_test, y_pred, average='macro')"
   ]
  },
  {
   "cell_type": "code",
   "execution_count": 33,
   "id": "0555146f-8060-449e-a336-7ecc9def061e",
   "metadata": {},
   "outputs": [
    {
     "name": "stdout",
     "output_type": "stream",
     "text": [
      "Evaluation Metrics:\n",
      "Accuracy: 0.9577464788732394\n",
      "Precision: 0.9789473684210526\n",
      "Recall: 0.8096899849559424\n",
      "F1-score: 0.8354019749150835\n"
     ]
    }
   ],
   "source": [
    "print(\"Evaluation Metrics:\")\n",
    "print(f\"Accuracy: {accuracy}\")\n",
    "print(f\"Precision: {precision}\")\n",
    "print(f\"Recall: {recall}\")\n",
    "print(f\"F1-score: {f1}\")"
   ]
  },
  {
   "cell_type": "code",
   "execution_count": 3,
   "id": "e07d61b5-08cf-48ec-b6b3-f8ce9091012a",
   "metadata": {},
   "outputs": [],
   "source": [
    "import pandas as pd"
   ]
  },
  {
   "cell_type": "code",
   "execution_count": 6,
   "id": "831381b8-1b07-45dd-9e39-4b5e8ed4312b",
   "metadata": {},
   "outputs": [],
   "source": [
    "# Function to predict target for new input data\n",
    "def predict_target(new_input_data, preprocessor, model, column_names):\n",
    "    \"\"\"\n",
    "    Predict the target for new input data using the trained model and preprocessor.\n",
    "    \n",
    "    Parameters:\n",
    "    new_input_data (pd.DataFrame): The new input data with the same columns as the training data.\n",
    "    preprocessor: The preprocessor used to transform the training data.\n",
    "    model: The trained model.\n",
    "    column_names: List of column names expected in the input data.\n",
    "    \n",
    "    Returns:\n",
    "    np.array: The predicted targets.\n",
    "    \"\"\"\n",
    "    if set(new_input_data.columns) != set(column_names):\n",
    "        raise ValueError(\"Input data must have the same columns as the training data.\")\n",
    "    \n",
    "    new_input_data_preprocessed = preprocessor.transform(new_input_data)\n",
    "    predictions = model.predict(new_input_data_preprocessed)\n",
    "    return predictions\n"
   ]
  },
  {
   "cell_type": "code",
   "execution_count": 7,
   "id": "fb5f353d-38b5-49f0-9a07-97afa912e3f2",
   "metadata": {},
   "outputs": [],
   "source": [
    "# Example of new input data\n",
    "new_input_data = pd.DataFrame({\n",
    "    'Glucose': [0.5],\n",
    "    'Cholesterol': [0.3],\n",
    "    'Hemoglobin': [0.7],\n",
    "    'Platelets': [0.4],\n",
    "    'White Blood Cells': [0.6],\n",
    "    'Red Blood Cells': [0.8],\n",
    "    'Hematocrit': [0.2],\n",
    "    'Mean Corpuscular Volume': [0.3],\n",
    "    'Mean Corpuscular Hemoglobin': [0.5],\n",
    "    'Mean Corpuscular Hemoglobin Concentration': [0.7],\n",
    "    'Insulin': [0.6],\n",
    "    'BMI': [0.8],\n",
    "    'Systolic Blood Pressure': [0.4],\n",
    "    'Diastolic Blood Pressure': [0.5],\n",
    "    'Triglycerides': [0.6],\n",
    "    'HbA1c': [0.3],\n",
    "    'LDL Cholesterol': [0.7],\n",
    "    'HDL Cholesterol': [0.5],\n",
    "    'ALT': [0.4],\n",
    "    'AST': [0.6],\n",
    "    'Heart Rate': [0.7],\n",
    "    'Creatinine': [0.3],\n",
    "    'Troponin': [0.2],\n",
    "    'C-reactive Protein': [0.5]\n",
    "})\n"
   ]
  },
  {
   "cell_type": "code",
   "execution_count": 8,
   "id": "9eb6556d-3349-4cbb-8c13-f7810280520d",
   "metadata": {},
   "outputs": [
    {
     "ename": "NameError",
     "evalue": "name 'preprocessor' is not defined",
     "output_type": "error",
     "traceback": [
      "\u001b[1;31m---------------------------------------------------------------------------\u001b[0m",
      "\u001b[1;31mNameError\u001b[0m                                 Traceback (most recent call last)",
      "Cell \u001b[1;32mIn[8], line 2\u001b[0m\n\u001b[0;32m      1\u001b[0m \u001b[38;5;66;03m# Predict the target for the new input data\u001b[39;00m\n\u001b[1;32m----> 2\u001b[0m predicted_targets \u001b[38;5;241m=\u001b[39m predict_target(new_input_data, \u001b[43mpreprocessor\u001b[49m, rf_model, X_combined\u001b[38;5;241m.\u001b[39mcolumns)\n\u001b[0;32m      3\u001b[0m \u001b[38;5;28mprint\u001b[39m(\u001b[38;5;124m\"\u001b[39m\u001b[38;5;124mPredicted Targets:\u001b[39m\u001b[38;5;124m\"\u001b[39m, predicted_targets)\n",
      "\u001b[1;31mNameError\u001b[0m: name 'preprocessor' is not defined"
     ]
    }
   ],
   "source": [
    "# Predict the target for the new input data\n",
    "predicted_targets = predict_target(new_input_data, preprocessor, rf_model, X_combined.columns)\n",
    "print(\"Predicted Targets:\", predicted_targets)"
   ]
  },
  {
   "cell_type": "code",
   "execution_count": null,
   "id": "5e2b13c6-56b5-4ff5-b25b-8cf4bd66bf43",
   "metadata": {},
   "outputs": [],
   "source": []
  }
 ],
 "metadata": {
  "kernelspec": {
   "display_name": "Python 3 (ipykernel)",
   "language": "python",
   "name": "python3"
  },
  "language_info": {
   "codemirror_mode": {
    "name": "ipython",
    "version": 3
   },
   "file_extension": ".py",
   "mimetype": "text/x-python",
   "name": "python",
   "nbconvert_exporter": "python",
   "pygments_lexer": "ipython3",
   "version": "3.11.7"
  }
 },
 "nbformat": 4,
 "nbformat_minor": 5
}
